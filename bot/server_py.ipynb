{
  "cells": [
    {
      "cell_type": "code",
      "source": [
        "pip install pyTelegramBotAPI"
      ],
      "metadata": {
        "id": "ubf_hRilXZ3N"
      },
      "execution_count": null,
      "outputs": []
    },
    {
      "cell_type": "code",
      "execution_count": null,
      "metadata": {
        "id": "IPXKIPfZJpgG"
      },
      "outputs": [],
      "source": [
        "#!/usr/bin/python\n",
        "\n",
        "import telebot\n",
        "import pickle\n",
        "import numpy as np\n",
        "import tensorflow as tf\n",
        "from tensorflow.keras import layers, models\n",
        "import numpy as np\n",
        "import pickle\n",
        "from keras.models import load_model\n",
        "import os"
      ]
    },
    {
      "cell_type": "markdown",
      "metadata": {
        "id": "GznRlRomQMU8"
      },
      "source": [
        "## Бот"
      ]
    },
    {
      "cell_type": "code",
      "source": [
        "#!/usr/bin/python\n",
        "\n",
        "import telebot\n",
        "import os\n",
        "from telebot import types \n",
        "\n",
        "API_TOKEN = # PUT YOUR API TOKEN #\n",
        "\n",
        "bot = telebot.TeleBot(API_TOKEN)\n",
        "\n",
        "\n",
        "# загрузка изображения, пэддинг, подготовка к модели, ОДИН ЦВЕТОВОЙ КАНАЛ\n",
        "def load_image_grayscale(filename):\n",
        "  img = tf.keras.utils.load_img(filename, grayscale=True, target_size=(28, 28))\n",
        "  img = np.asarray(img).reshape(1, 28, 28, 1)\n",
        "  img = img.astype('float32')\n",
        "  img = tf.pad(img, paddings=tf.constant([[0,0], [2, 2,], [2, 2], [0,0]]), \n",
        "             mode ='CONSTANT') / 255.0\n",
        "  return img\n",
        "\n",
        "# предикт\n",
        "def predict_digit(image_name, model_name):\n",
        "  loaded_model = load_model(model_name)\n",
        "  return np.argmax(loaded_model.predict(load_image_grayscale(image_name)))\n",
        "# КОД БОТА #\n",
        " \n",
        "\n",
        "@bot.message_handler(commands=['start'])\n",
        "def start(message):\n",
        "    markup = types.ReplyKeyboardMarkup(resize_keyboard=True)\n",
        "    btn1 = types.KeyboardButton(\"Поздороваться\")\n",
        "    btn2 = types.KeyboardButton(\"Сделать что-то\")\n",
        "    markup.add(btn1, btn2)\n",
        "    bot.send_message(message.chat.id,\n",
        "                     text=\"Привет, {0.first_name}!\".format(message.from_user), reply_markup=markup)\n",
        "\n",
        "\n",
        "\n",
        "@bot.message_handler(content_types=['photo'])\n",
        "def handle_docs_photo(message):\n",
        "    model_name = 'custom_model.h5'\n",
        "    chat_id = message.chat.id\n",
        "    file_info = bot.get_file(message.photo[-1].file_id)\n",
        "    downloaded_file = bot.download_file(file_info.file_path)\n",
        "    src = '/content/' + message.photo[-1].file_id + '.jpg';\n",
        "    with open(src, 'wb') as new_file:\n",
        "      new_file.write(downloaded_file)\n",
        "    result = \"Это цифра \" + str(predict_digit(src, model_name))\n",
        "    bot.reply_to(message, result)\n",
        "    if os.path.isfile(src):\n",
        "      os.remove(src)\n",
        "\n",
        "\n",
        "@bot.message_handler(content_types=['text', 'photo'])\n",
        "def func(message):\n",
        "    if (message.text == \"Поздороваться\"):\n",
        "        bot.send_message(message.chat.id, text=\"Eще раз привет 😼\")\n",
        "    elif (message.text == \"Сделать что-то\"):\n",
        "        markup = types.ReplyKeyboardMarkup(resize_keyboard=True)\n",
        "        btn1 = types.KeyboardButton(\"Распознавание цифр\")\n",
        "        back = types.KeyboardButton(\"Вернуться в главное меню\")\n",
        "        markup.add(btn1, back)\n",
        "        bot.send_message(message.chat.id, text=\"Вот что я умею:\", reply_markup=markup)\n",
        "\n",
        "    elif (message.text == \"Распознавание цифр\"):\n",
        "        bot.send_message(message.chat.id, '''\n",
        "        Пришлите цифру на однородном фоне, расположенную примерно по центру картинки\n",
        "        ''')\n",
        "\n",
        "    elif (message.text == \"Вернуться в главное меню\"):\n",
        "        markup = types.ReplyKeyboardMarkup(resize_keyboard=True)\n",
        "        button1 = types.KeyboardButton(\"Поздороваться\")\n",
        "        button2 = types.KeyboardButton(\"Сделать что-то\")\n",
        "        markup.add(button1, button2)\n",
        "        bot.send_message(message.chat.id, text=\"Вы вернулись в главное меню\", reply_markup=markup)\n",
        "    else:\n",
        "        bot.send_message(message.chat.id, text=message.text)\n",
        "\n",
        "\n",
        "# ответ на ;тект; ;текстом;\n",
        "@bot.message_handler(func=lambda message: True)\n",
        "def echo_message(message):\n",
        "    bot.reply_to(message, message.text)\n",
        "\n",
        "\n",
        "bot.infinity_polling()"
      ],
      "metadata": {
        "id": "gAJHHzn6Xdh-"
      },
      "execution_count": null,
      "outputs": []
    }
  ],
  "metadata": {
    "colab": {
      "provenance": []
    },
    "kernelspec": {
      "display_name": "Python 3",
      "name": "python3"
    },
    "language_info": {
      "name": "python"
    }
  },
  "nbformat": 4,
  "nbformat_minor": 0
}
