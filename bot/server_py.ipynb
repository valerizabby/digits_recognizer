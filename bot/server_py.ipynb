{
  "cells": [
    {
      "cell_type": "code",
      "execution_count": 1,
      "metadata": {
        "id": "l-j_G7s550KS",
        "colab": {
          "base_uri": "https://localhost:8080/"
        },
        "outputId": "ea8fc66e-8c78-4d68-8573-760be6584631"
      },
      "outputs": [
        {
          "output_type": "stream",
          "name": "stdout",
          "text": [
            "Looking in indexes: https://pypi.org/simple, https://us-python.pkg.dev/colab-wheels/public/simple/\n",
            "Requirement already satisfied: pyTelegramBotAPI in /usr/local/lib/python3.8/dist-packages (4.10.0)\n",
            "Requirement already satisfied: requests in /usr/local/lib/python3.8/dist-packages (from pyTelegramBotAPI) (2.25.1)\n",
            "Requirement already satisfied: chardet<5,>=3.0.2 in /usr/local/lib/python3.8/dist-packages (from requests->pyTelegramBotAPI) (4.0.0)\n",
            "Requirement already satisfied: certifi>=2017.4.17 in /usr/local/lib/python3.8/dist-packages (from requests->pyTelegramBotAPI) (2022.12.7)\n",
            "Requirement already satisfied: idna<3,>=2.5 in /usr/local/lib/python3.8/dist-packages (from requests->pyTelegramBotAPI) (2.10)\n",
            "Requirement already satisfied: urllib3<1.27,>=1.21.1 in /usr/local/lib/python3.8/dist-packages (from requests->pyTelegramBotAPI) (1.24.3)\n"
          ]
        }
      ],
      "source": [
        "pip install pyTelegramBotAPI"
      ]
    },
    {
      "cell_type": "code",
      "execution_count": 2,
      "metadata": {
        "id": "IPXKIPfZJpgG"
      },
      "outputs": [],
      "source": [
        "#!/usr/bin/python\n",
        "\n",
        "import telebot\n",
        "import pickle\n",
        "import numpy as np\n",
        "import tensorflow as tf\n",
        "from tensorflow.keras import layers, models\n",
        "import numpy as np\n",
        "import pickle\n",
        "from keras.models import load_model\n",
        "import os"
      ]
    },
    {
      "cell_type": "markdown",
      "metadata": {
        "id": "GznRlRomQMU8"
      },
      "source": [
        "## Бот"
      ]
    },
    {
      "cell_type": "code",
      "execution_count": 3,
      "metadata": {
        "colab": {
          "base_uri": "https://localhost:8080/"
        },
        "id": "TcJpt_fk8uku",
        "outputId": "231a1dc2-a844-4115-e234-1df408c6c611"
      },
      "outputs": [
        {
          "output_type": "stream",
          "name": "stderr",
          "text": [
            "/usr/local/lib/python3.8/dist-packages/keras/utils/image_utils.py:382: UserWarning: grayscale is deprecated. Please use color_mode = \"grayscale\"\n",
            "  warnings.warn('grayscale is deprecated. Please use '\n"
          ]
        },
        {
          "output_type": "stream",
          "name": "stdout",
          "text": [
            "1/1 [==============================] - 0s 314ms/step\n"
          ]
        },
        {
          "output_type": "stream",
          "name": "stderr",
          "text": [
            "2023-02-07 09:59:01,160 (__init__.py:966 MainThread) ERROR - TeleBot: \"Infinity polling: polling exited\"\n",
            "ERROR:TeleBot:Infinity polling: polling exited\n",
            "2023-02-07 09:59:01,164 (__init__.py:968 MainThread) ERROR - TeleBot: \"Break infinity polling\"\n",
            "ERROR:TeleBot:Break infinity polling\n"
          ]
        }
      ],
      "source": [
        "#!/usr/bin/python\n",
        "\n",
        "import telebot\n",
        "import os\n",
        "from telebot import types # для указание типов\n",
        "\n",
        "API_TOKEN = #PUT YOUR API TOKEN HERE#\n",
        "\n",
        "bot = telebot.TeleBot(API_TOKEN)\n",
        "\n",
        "\n",
        "# загрузка изображения, пэддинг, подготовка к модели, ОДИН ЦВЕТОВОЙ КАНАЛ\n",
        "def load_image_grayscale(filename):\n",
        "  img = tf.keras.utils.load_img(filename, grayscale=True, target_size=(28, 28))\n",
        "  img = np.asarray(img).reshape(1, 28, 28, 1)\n",
        "  img = img.astype('float32')\n",
        "  img = tf.pad(img, paddings=tf.constant([[0,0], [2, 2,], [2, 2], [0,0]]), \n",
        "             mode ='CONSTANT') / 255.0\n",
        "  return img\n",
        "\n",
        "# предикт\n",
        "def predict_digit(image_name, model_name):\n",
        "  loaded_model = load_model(model_name)\n",
        "  return np.argmax(loaded_model.predict(load_image_grayscale(image_name)))\n",
        "# КОД БОТА #\n",
        " \n",
        "\n",
        "@bot.message_handler(commands=['start'])\n",
        "def start(message):\n",
        "    markup = types.ReplyKeyboardMarkup(resize_keyboard=True)\n",
        "    btn1 = types.KeyboardButton(\"Поздороваться\")\n",
        "    btn2 = types.KeyboardButton(\"Сделать что-то\")\n",
        "    markup.add(btn1, btn2)\n",
        "    bot.send_message(message.chat.id,\n",
        "                     text=\"Привет, {0.first_name}!\".format(message.from_user), reply_markup=markup)\n",
        "\n",
        "\n",
        "\n",
        "@bot.message_handler(content_types=['photo'])\n",
        "def handle_docs_photo(message):\n",
        "    model_name = 'custom_model.h5'\n",
        "    chat_id = message.chat.id\n",
        "    file_info = bot.get_file(message.photo[-1].file_id)\n",
        "    downloaded_file = bot.download_file(file_info.file_path)\n",
        "    src = '/content/' + message.photo[-1].file_id + '.jpg';\n",
        "    with open(src, 'wb') as new_file:\n",
        "      new_file.write(downloaded_file)\n",
        "    result = \"Это цифра \" + str(predict_digit(src, model_name))\n",
        "    bot.reply_to(message, result)\n",
        "    if os.path.isfile(src):\n",
        "      os.remove(src)\n",
        "\n",
        "\n",
        "@bot.message_handler(content_types=['text', 'photo'])\n",
        "def func(message):\n",
        "    if (message.text == \"Поздороваться\"):\n",
        "        bot.send_message(message.chat.id, text=\"Eще раз привет 😼\")\n",
        "    elif (message.text == \"Сделать что-то\"):\n",
        "        markup = types.ReplyKeyboardMarkup(resize_keyboard=True)\n",
        "        btn1 = types.KeyboardButton(\"Распознавание цифр\")\n",
        "        back = types.KeyboardButton(\"Вернуться в главное меню\")\n",
        "        markup.add(btn1, back)\n",
        "        bot.send_message(message.chat.id, text=\"Вот что я умею:\", reply_markup=markup)\n",
        "\n",
        "    elif (message.text == \"Распознавание цифр\"):\n",
        "        bot.send_message(message.chat.id, '''\n",
        "        Пришлите цифру на однородном фоне, расположенную примерно по центру картинки\n",
        "        ''')\n",
        "\n",
        "    elif (message.text == \"Вернуться в главное меню\"):\n",
        "        markup = types.ReplyKeyboardMarkup(resize_keyboard=True)\n",
        "        button1 = types.KeyboardButton(\"Поздороваться\")\n",
        "        button2 = types.KeyboardButton(\"Сделать что-то\")\n",
        "        markup.add(button1, button2)\n",
        "        bot.send_message(message.chat.id, text=\"Вы вернулись в главное меню\", reply_markup=markup)\n",
        "    else:\n",
        "        bot.send_message(message.chat.id, text=message.text)\n",
        "\n",
        "\n",
        "# ответ на ;тект; ;текстом;\n",
        "@bot.message_handler(func=lambda message: True)\n",
        "def echo_message(message):\n",
        "    bot.reply_to(message, message.text)\n",
        "\n",
        "\n",
        "bot.infinity_polling()"
      ]
    }
  ],
  "metadata": {
    "colab": {
      "provenance": []
    },
    "kernelspec": {
      "display_name": "Python 3",
      "name": "python3"
    },
    "language_info": {
      "name": "python"
    }
  },
  "nbformat": 4,
  "nbformat_minor": 0
}
